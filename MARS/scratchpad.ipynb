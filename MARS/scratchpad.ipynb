{
 "cells": [
  {
   "cell_type": "code",
   "execution_count": 1,
   "metadata": {},
   "outputs": [
    {
     "name": "stderr",
     "output_type": "stream",
     "text": [
      "/workspace/Truth_is_Universal/venv/lib/python3.11/site-packages/tqdm/auto.py:21: TqdmWarning: IProgress not found. Please update jupyter and ipywidgets. See https://ipywidgets.readthedocs.io/en/stable/user_install.html\n",
      "  from .autonotebook import tqdm as notebook_tqdm\n"
     ]
    }
   ],
   "source": [
    "import os\n",
    "from typing import Tuple\n",
    "\n",
    "import configparser\n",
    "import pandas as pd\n",
    "import torch as t\n",
    "from transformers import AutoTokenizer, AutoModelForCausalLM"
   ]
  },
  {
   "cell_type": "code",
   "execution_count": 2,
   "metadata": {},
   "outputs": [
    {
     "data": {
      "text/plain": [
       "['../config.ini']"
      ]
     },
     "execution_count": 2,
     "metadata": {},
     "output_type": "execute_result"
    }
   ],
   "source": [
    "config = configparser.ConfigParser()\n",
    "config.read('../config.ini')"
   ]
  },
  {
   "cell_type": "code",
   "execution_count": 3,
   "metadata": {},
   "outputs": [],
   "source": [
    "DATASETS_DIR = \"../../datasets\"\n",
    "FORMATTED_DATASET_NAME = \"mars_corr_mmlu\"\n",
    "DATASET_NAME = \"mmlu\"\n",
    "DATASET_CATS = [\"high_school_mathematics\", \"college_mathematics\", \"abstract_algebra\"]\n",
    "SYS_PROMPT = (\n",
    "    lambda topic: f\"The following is a multiple choice question (with answers) about {topic.replace('_', ' ')}. Answer with a single letter.\"\n",
    ")\n",
    "MODEL_FAMILY = \"Llama3\"\n",
    "MODEL_SIZE = \"8B\"\n",
    "MODEL_TYPE = \"chat\""
   ]
  },
  {
   "cell_type": "code",
   "execution_count": 4,
   "metadata": {},
   "outputs": [],
   "source": [
    "def format_prompt(\n",
    "    subject, question, answers, sys_prompt: callable, choices=[\"A\", \"B\", \"C\", \"D\"]\n",
    ") -> Tuple[str, str]:\n",
    "    user_prompt = (\n",
    "        f\"{question}\\n\"\n",
    "        + \"\\n\".join([f\"{choice}. {answer}\" for choice, answer in zip(choices, answers)])\n",
    "        + \"\\nAnswer:\"\n",
    "    )\n",
    "\n",
    "    return f\"{SYS_PROMPT(subject)}\\n{user_prompt}\""
   ]
  },
  {
   "cell_type": "code",
   "execution_count": 5,
   "metadata": {},
   "outputs": [],
   "source": [
    "ANSWER_MAP = [\"A\", \"B\", \"C\", \"D\"]\n",
    "\n",
    "\n",
    "def format_dataset(base_path: str) -> pd.DataFrame:\n",
    "    df = pd.read_parquet(base_path)\n",
    "    prompts = df.apply(\n",
    "        lambda row: format_prompt(\n",
    "            row[\"subject\"], row[\"question\"], row[\"choices\"], SYS_PROMPT\n",
    "        ),\n",
    "        axis=1,\n",
    "    )\n",
    "    answers = df[\"answer\"].apply(lambda a: ANSWER_MAP[a])\n",
    "    formatted = pd.DataFrame(\n",
    "        {\"prompt\": prompts.tolist(), \"answer\": answers, \"subject\": df[\"subject\"]}\n",
    "    )\n",
    "    return formatted"
   ]
  },
  {
   "cell_type": "code",
   "execution_count": 6,
   "metadata": {},
   "outputs": [],
   "source": [
    "def load_model(\n",
    "    model_family: str, model_size: str, model_type: str, device: str = \"cuda:0\"\n",
    "):\n",
    "    model_path = os.path.join(\n",
    "        config[model_family][\"weights_directory\"],\n",
    "        config[model_family][f\"{model_size}_{model_type}_subdir\"],\n",
    "    )\n",
    "\n",
    "    tokenizer = AutoTokenizer.from_pretrained(str(model_path))\n",
    "    model = AutoModelForCausalLM.from_pretrained(str(model_path))\n",
    "    return tokenizer, model.to(device)"
   ]
  },
  {
   "cell_type": "code",
   "execution_count": 7,
   "metadata": {},
   "outputs": [],
   "source": [
    "for d in DATASET_CATS:\n",
    "    dataset_f = format_dataset(f\"{DATASETS_DIR}/{DATASET_NAME}/{d}\")\n",
    "    dataset_f.to_csv(f\"{DATASETS_DIR}/{FORMATTED_DATASET_NAME}/{d}.csv\", index=False)"
   ]
  },
  {
   "cell_type": "code",
   "execution_count": 8,
   "metadata": {},
   "outputs": [
    {
     "name": "stderr",
     "output_type": "stream",
     "text": [
      "Loading checkpoint shards: 100%|██████████| 4/4 [01:22<00:00, 20.73s/it]\n"
     ]
    },
    {
     "data": {
      "text/plain": [
       "LlamaForCausalLM(\n",
       "  (model): LlamaModel(\n",
       "    (embed_tokens): Embedding(128256, 4096)\n",
       "    (layers): ModuleList(\n",
       "      (0-31): 32 x LlamaDecoderLayer(\n",
       "        (self_attn): LlamaSdpaAttention(\n",
       "          (q_proj): Linear(in_features=4096, out_features=4096, bias=False)\n",
       "          (k_proj): Linear(in_features=4096, out_features=1024, bias=False)\n",
       "          (v_proj): Linear(in_features=4096, out_features=1024, bias=False)\n",
       "          (o_proj): Linear(in_features=4096, out_features=4096, bias=False)\n",
       "          (rotary_emb): LlamaRotaryEmbedding()\n",
       "        )\n",
       "        (mlp): LlamaMLP(\n",
       "          (gate_proj): Linear(in_features=4096, out_features=14336, bias=False)\n",
       "          (up_proj): Linear(in_features=4096, out_features=14336, bias=False)\n",
       "          (down_proj): Linear(in_features=14336, out_features=4096, bias=False)\n",
       "          (act_fn): SiLU()\n",
       "        )\n",
       "        (input_layernorm): LlamaRMSNorm((4096,), eps=1e-05)\n",
       "        (post_attention_layernorm): LlamaRMSNorm((4096,), eps=1e-05)\n",
       "      )\n",
       "    )\n",
       "    (norm): LlamaRMSNorm((4096,), eps=1e-05)\n",
       "    (rotary_emb): LlamaRotaryEmbedding()\n",
       "  )\n",
       "  (lm_head): Linear(in_features=4096, out_features=128256, bias=False)\n",
       ")"
      ]
     },
     "execution_count": 8,
     "metadata": {},
     "output_type": "execute_result"
    }
   ],
   "source": [
    "t.set_grad_enabled(False)\n",
    "tokenizer, model = load_model(MODEL_FAMILY, MODEL_SIZE, MODEL_TYPE)\n",
    "model.eval()"
   ]
  },
  {
   "cell_type": "code",
   "execution_count": 16,
   "metadata": {},
   "outputs": [],
   "source": [
    "def load_statements(dataset_path: str):\n",
    "    \"\"\"\n",
    "    Load statements from csv file, return list of strings.\n",
    "    \"\"\"\n",
    "    dataset = pd.read_csv(dataset_path)\n",
    "    statements = dataset['prompt'].tolist()\n",
    "    return statements"
   ]
  },
  {
   "cell_type": "code",
   "execution_count": 31,
   "metadata": {},
   "outputs": [],
   "source": [
    "choices_ids = [\n",
    "    tokenizer.encode(choice, add_special_tokens=False)[0] for choice in ANSWER_MAP\n",
    "]\n",
    "\n",
    "def generate_const_answer(tokenizer, model, prompt: str, choices_ids) -> Tuple[str, str]:\n",
    "    input_ids = tokenizer.encode(prompt, return_tensors=\"pt\").to(model.device)\n",
    "    \n",
    "    with t.no_grad():\n",
    "        outputs = model(input_ids)\n",
    "        logits = outputs.logits\n",
    "        last_token_logits = logits[0, -1, :]  # Logits for the last token\n",
    "        masked_logits = last_token_logits.clone()\n",
    "        masked_logits[:] = float(\"-inf\")\n",
    "        masked_logits[choices_ids] = last_token_logits[choices_ids]\n",
    "        top_const_token_id = t.argmax(masked_logits).item()\n",
    "        top_unconst_token_id = t.argmax(last_token_logits).item()\n",
    "        top_const_token = tokenizer.decode([top_const_token_id])\n",
    "        top_unconst_token = tokenizer.decode([top_unconst_token_id])\n",
    "        \n",
    "    return top_const_token, top_unconst_token"
   ]
  },
  {
   "cell_type": "code",
   "execution_count": 32,
   "metadata": {},
   "outputs": [],
   "source": [
    "for dataset in DATASET_CATS:\n",
    "    save_dir = os.path.join(DATASETS_DIR, \"generations\", FORMATTED_DATASET_NAME)\n",
    "    save_file = os.path.join(save_dir, f\"{dataset}_generations.csv\")\n",
    "    os.makedirs(save_dir, exist_ok=True)\n",
    "    \n",
    "    # Check existing files and remove them\n",
    "    if os.path.exists(save_file):\n",
    "        os.remove(save_file)\n",
    "    \n",
    "    statements = load_statements(os.path.join(DATASETS_DIR, FORMATTED_DATASET_NAME, f\"{dataset}.csv\"))\n",
    "    generations = []\n",
    "    for i, statement in enumerate(statements):\n",
    "        const_answer, unconst_answer = generate_const_answer(\n",
    "            tokenizer, model, statement, choices_ids\n",
    "        )\n",
    "        generations.append(\n",
    "            {\n",
    "                \"statement\": statement,\n",
    "                \"const_answer\": const_answer,\n",
    "                \"unconst_answer\": unconst_answer,\n",
    "            }\n",
    "        )\n",
    "    \n",
    "    generations_df = pd.DataFrame(generations)\n",
    "    generations_df.to_csv(save_file, index=False)"
   ]
  },
  {
   "cell_type": "code",
   "execution_count": null,
   "metadata": {},
   "outputs": [],
   "source": []
  }
 ],
 "metadata": {
  "kernelspec": {
   "display_name": "venv",
   "language": "python",
   "name": "python3"
  },
  "language_info": {
   "codemirror_mode": {
    "name": "ipython",
    "version": 3
   },
   "file_extension": ".py",
   "mimetype": "text/x-python",
   "name": "python",
   "nbconvert_exporter": "python",
   "pygments_lexer": "ipython3",
   "version": "3.11.10"
  }
 },
 "nbformat": 4,
 "nbformat_minor": 2
}
